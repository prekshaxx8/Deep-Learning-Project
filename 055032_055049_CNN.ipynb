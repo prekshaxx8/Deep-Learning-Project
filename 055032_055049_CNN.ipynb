{
  "cells": [
    {
      "cell_type": "markdown",
      "metadata": {
        "id": "9dX4L9GXuXKq"
      },
      "source": [
        "# MNIST Handwritten Digit Recognizer using Deep CNN\n",
        "\n",
        "Contributors:\n",
        "- Preksha Verma (055032)\n",
        "- Suvra Datta Banik (055049)"
      ]
    },
    {
      "cell_type": "markdown",
      "metadata": {
        "id": "K_YntzlsRNWx"
      },
      "source": [
        "## Problem Statement:\n",
        "\n",
        "Handwritten digit recognition plays a vital role in real-world applications like postal mail sorting, bank check processing, and automated form digitization. However, conventional methods often struggle with the diversity in handwriting styles, resulting in inaccuracies. This project focuses on developing a Deep Convolutional Neural Network (CNN) to accurately classify handwritten digits, enhancing recognition efficiency and minimizing manual effort. By leveraging deep learning techniques, the model improves pattern detection and generalization, making it a robust solution for automated handwriting recognition systems in practical applications."
      ]
    },
    {
      "cell_type": "markdown",
      "metadata": {
        "id": "l97pEQXwvpNT"
      },
      "source": [
        "## Project Structure\n",
        "\n",
        "1. Importing Libraries\n",
        "2. Preparing the Dataset\n",
        "3. Model Building\n",
        "4. Model Fitting\n",
        "5. Model Analysis\n",
        "6. Predicting using test data\n"
      ]
    },
    {
      "cell_type": "markdown",
      "metadata": {
        "id": "1KOhAGcOwIYp"
      },
      "source": [
        "## Data Analysis  \n",
        "\n",
        "### 1. Importing the Libraries  \n",
        "\n",
        "- **TensorFlow v2** - An open-source machine learning framework developed by Google.  \n",
        "- **Keras** - A high-level neural network library that runs on top of TensorFlow.  \n",
        "\n",
        "### 2. Preparing the Dataset  \n",
        "\n",
        "We utilized the **MNIST Handwritten Digit Recognition** dataset. The dataset was loaded into a **pandas DataFrame** using `read_csv`, allowing structured data manipulation. The label column was extracted and stored in `Y_pvsdb32490428train`, serving as the target variable for training. The corresponding pixel values of handwritten digits were stored in `X_pvsdb3249train` for model input.  \n",
        "\n",
        "To analyze the class distribution, a **countplot** was generated, providing insights into the number of occurrences of each digit. Additionally, we checked for missing values to maintain data integrity before proceeding with preprocessing and model training.  \n",
        "\n",
        "#### 2.1. Normalization  \n",
        "\n",
        "To improve training efficiency, pixel values (ranging from **0 to 255**) were **scaled down to [0,1]** by dividing each value by 255. This transformation stabilizes gradient updates, reduces computational complexity, and enhances the model’s ability to detect patterns effectively.  \n",
        "\n",
        "#### 2.2. Reshaping  \n",
        "\n",
        "The pixel array was reshaped into a **(28,28,1) matrix**, ensuring compatibility with the **CNN input layer** designed for grayscale images of size 28x28.  \n",
        "\n",
        "#### 2.3. Encoding  \n",
        "\n",
        "The CNN model outputs predictions in a vector format, where each element represents the probability of a digit belonging to a specific class. To align with this format, the labels (digits) were **one-hot encoded**, enabling efficient learning and accurate classification.  \n",
        "\n",
        "#### 2.4. Train-Test Split  \n",
        "\n",
        "To evaluate model performance effectively, the dataset was divided into **training and validation sets**. The training set (`pvsdb3249train`) was used for model learning, while the validation set assessed generalization on unseen data. Monitoring **validation accuracy and loss** helped identify issues like overfitting (when the model performs well on training data but poorly on new data) and underfitting (when the model fails to capture meaningful patterns). This approach ensures a well-balanced evaluation before final testing.  \n",
        "\n",
        "### 3. Model Building  \n",
        "\n",
        "A **Deep Convolutional Neural Network (CNN)** was implemented using the **LeNet-5 architecture**, originally proposed by Yann LeCun (1998). This architecture is well-suited for small-resolution image classification due to its efficiency and ease of training.  \n",
        "\n",
        "#### **Model Structure:**  \n",
        "*Input → [[Conv2D → ReLU] × 2 → MaxPool2D → Dropout] × 2 → Flatten → Dense → Dropout → Output*  \n",
        "\n",
        "This design ensures **feature extraction, dimensionality reduction, and regularization**, preventing overfitting.  \n",
        "\n",
        "#### **Data Augmentation:**  \n",
        "Since deep learning models perform better with large datasets, **data augmentation** techniques such as **zooming, rotating, flipping, and cropping** were applied. These methods generated variations of existing images, improving the model’s ability to generalize across different handwriting styles.  \n",
        "\n",
        "#### **Optimization Strategy:**  \n",
        "- **RMSProp** was used to ensure faster and more stable convergence.  \n",
        "- **ReduceLROnPlateau** dynamically adjusted the learning rate, preventing stagnation and improving model accuracy.  \n",
        "\n",
        "### 4. Model Fitting  \n",
        "\n",
        "The model was trained by fitting the dataset to the CNN architecture, allowing it to learn patterns and minimize errors. Since training deep learning models can be computationally expensive, **GPU support was enabled on Kaggle**, significantly accelerating the process and improving training efficiency.  \n",
        "\n",
        "### 5. Prediction Using Test Data  \n",
        "\n",
        "After training and evaluating the model, predictions were generated for the test dataset. The results were stored in a **CSV file** for submission in the competition.  \n"
      ]
    },
    {
      "cell_type": "markdown",
      "metadata": {
        "id": "Dvwl4F_LwAkv"
      },
      "source": [
        "## Observations\n",
        "\n",
        "### **Importing Libraries**  \n",
        "- Successfully imported all required libraries, including TensorFlow, Keras, Pandas, and Matplotlib.  \n",
        "\n",
        "### **Preparing the Dataset**  \n",
        "- The MNIST dataset was loaded and preprocessed effectively.  \n",
        "- The data was split into **training** and **validation** sets to enhance generalization.  \n",
        "- A **countplot** verified a well-balanced distribution of digit classes.  \n",
        "- No missing values were detected in the dataset.  \n",
        "- Pixel values were **normalized from [0,255] to [0,1]**, improving training efficiency.  \n",
        "\n",
        "### **Model Building**  \n",
        "- The **LeNet-5 architecture** was chosen for its simplicity and efficiency in digit recognition.  \n",
        "- The model comprised **convolutional layers, pooling layers, dropout layers**, and a **fully connected output layer**.  \n",
        "- **Data Augmentation** was applied to expand the dataset artificially and improve generalization.  \n",
        "- The **RMSProp optimizer** facilitated better convergence, while **ReduceLROnPlateau** dynamically adjusted the learning rate.  \n",
        "\n",
        "### **Model Fitting**  \n",
        "- Training was performed on Kaggle with **GPU acceleration**, significantly reducing computation time.  \n",
        "- Loss and accuracy values showed consistent improvement across epochs.  \n",
        "- Training and validation losses were closely monitored to prevent overfitting.  \n",
        "\n",
        "### **Model Analysis**  \n",
        "- The **learning curve** demonstrated a steady decline in both training and validation losses, confirming effective learning.  \n",
        "- The **confusion matrix** highlighted strong model performance across most digit classes, with minor misclassifications.  \n",
        "- Although accuracy was high, some errors indicated areas for further improvement.  \n",
        "\n",
        "### **Predicting Using Test Data**  \n",
        "- The trained model was used to generate predictions on the test dataset.  \n",
        "- Results were saved in a **CSV file** for competition submission.  \n",
        "- The final model delivered robust performance, with predictions closely matching validation accuracy.  \n"
      ]
    },
    {
      "cell_type": "markdown",
      "metadata": {
        "id": "OEViAe-z0Qbt"
      },
      "source": [
        "## Managerial Insights  \n",
        "\n",
        "- **Automation Potential**:  \n",
        "  The CNN model demonstrates high accuracy in classifying handwritten digits, making it a reliable choice for **automated data entry systems** in sectors like banking, postal services, and form digitization. This automation can significantly minimize manual errors and enhance processing efficiency.  \n",
        "\n",
        "- **Cost-Effectiveness**:  \n",
        "  Leveraging **deep learning-based recognition** helps organizations reduce labor expenses associated with manual digit transcription. Furthermore, **data augmentation** enhances model performance without the need for extensive datasets, lowering data acquisition costs.  \n",
        "\n",
        "- **Scalability & Adaptability**:  \n",
        "  The model can be fine-tuned to recognize characters in **various languages and handwritten scripts**, extending its applications to industries such as finance, healthcare, and government document processing.  \n",
        "\n",
        "- **Performance vs. Infrastructure**:  \n",
        "  While CNNs offer high accuracy, they require **computational resources** like GPUs. Organizations can utilize cloud-based AI services to **optimize cost and performance**, ensuring scalable deployment.  \n",
        "\n",
        "- **Error Handling & Continuous Improvement**:  \n",
        "  The confusion matrix reveals misclassifications, highlighting potential biases in specific digits. Integrating **active learning** and retraining the model with **updated data** over time can enhance its accuracy.  \n",
        "\n",
        "- **Strategic Decision-Making**:  \n",
        "  Companies evaluating AI-driven handwriting recognition should assess **data availability, infrastructure capabilities, and compliance requirements** before implementation. The model’s strong performance in digit recognition supports a compelling **business case** for AI-driven process automation.  \n"
      ]
    },
    {
      "cell_type": "markdown",
      "metadata": {
        "id": "zQHYkAoVUMKi"
      },
      "source": [
        "## 1. Importing the Libraries"
      ]
    },
    {
      "cell_type": "code",
      "execution_count": null,
      "metadata": {
        "colab": {
          "base_uri": "https://localhost:8080/"
        },
        "id": "jo-FRo-cx4IZ",
        "outputId": "403a44f6-af52-4d86-eeef-6c7106632fa7"
      },
      "outputs": [
        {
          "output_type": "stream",
          "name": "stdout",
          "text": [
            "Collecting tensorflow\n",
            "  Downloading tensorflow-2.19.0-cp311-cp311-manylinux_2_17_x86_64.manylinux2014_x86_64.whl.metadata (4.1 kB)\n",
            "Requirement already satisfied: absl-py>=1.0.0 in /usr/local/lib/python3.11/dist-packages (from tensorflow) (1.4.0)\n",
            "Collecting astunparse>=1.6.0 (from tensorflow)\n",
            "  Downloading astunparse-1.6.3-py2.py3-none-any.whl.metadata (4.4 kB)\n",
            "Collecting flatbuffers>=24.3.25 (from tensorflow)\n",
            "  Downloading flatbuffers-25.2.10-py2.py3-none-any.whl.metadata (875 bytes)\n",
            "Requirement already satisfied: gast!=0.5.0,!=0.5.1,!=0.5.2,>=0.2.1 in /usr/local/lib/python3.11/dist-packages (from tensorflow) (0.6.0)\n",
            "Collecting google-pasta>=0.1.1 (from tensorflow)\n",
            "  Downloading google_pasta-0.2.0-py3-none-any.whl.metadata (814 bytes)\n",
            "Collecting libclang>=13.0.0 (from tensorflow)\n",
            "  Downloading libclang-18.1.1-py2.py3-none-manylinux2010_x86_64.whl.metadata (5.2 kB)\n",
            "Requirement already satisfied: opt-einsum>=2.3.2 in /usr/local/lib/python3.11/dist-packages (from tensorflow) (3.4.0)\n",
            "Requirement already satisfied: packaging in /usr/local/lib/python3.11/dist-packages (from tensorflow) (24.2)\n",
            "Requirement already satisfied: protobuf!=4.21.0,!=4.21.1,!=4.21.2,!=4.21.3,!=4.21.4,!=4.21.5,<6.0.0dev,>=3.20.3 in /usr/local/lib/python3.11/dist-packages (from tensorflow) (5.29.4)\n",
            "Requirement already satisfied: requests<3,>=2.21.0 in /usr/local/lib/python3.11/dist-packages (from tensorflow) (2.32.3)\n",
            "Requirement already satisfied: setuptools in /usr/local/lib/python3.11/dist-packages (from tensorflow) (75.1.0)\n",
            "Requirement already satisfied: six>=1.12.0 in /usr/local/lib/python3.11/dist-packages (from tensorflow) (1.17.0)\n",
            "Requirement already satisfied: termcolor>=1.1.0 in /usr/local/lib/python3.11/dist-packages (from tensorflow) (2.5.0)\n",
            "Requirement already satisfied: typing-extensions>=3.6.6 in /usr/local/lib/python3.11/dist-packages (from tensorflow) (4.12.2)\n",
            "Requirement already satisfied: wrapt>=1.11.0 in /usr/local/lib/python3.11/dist-packages (from tensorflow) (1.17.2)\n",
            "Requirement already satisfied: grpcio<2.0,>=1.24.3 in /usr/local/lib/python3.11/dist-packages (from tensorflow) (1.71.0)\n",
            "Collecting tensorboard~=2.19.0 (from tensorflow)\n",
            "  Downloading tensorboard-2.19.0-py3-none-any.whl.metadata (1.8 kB)\n",
            "Requirement already satisfied: keras>=3.5.0 in /usr/local/lib/python3.11/dist-packages (from tensorflow) (3.8.0)\n",
            "Requirement already satisfied: numpy<2.2.0,>=1.26.0 in /usr/local/lib/python3.11/dist-packages (from tensorflow) (2.0.2)\n",
            "Requirement already satisfied: h5py>=3.11.0 in /usr/local/lib/python3.11/dist-packages (from tensorflow) (3.13.0)\n",
            "Requirement already satisfied: ml-dtypes<1.0.0,>=0.5.1 in /usr/local/lib/python3.11/dist-packages (from tensorflow) (0.5.1)\n",
            "Collecting tensorflow-io-gcs-filesystem>=0.23.1 (from tensorflow)\n",
            "  Downloading tensorflow_io_gcs_filesystem-0.37.1-cp311-cp311-manylinux_2_17_x86_64.manylinux2014_x86_64.whl.metadata (14 kB)\n",
            "Collecting wheel<1.0,>=0.23.0 (from astunparse>=1.6.0->tensorflow)\n",
            "  Downloading wheel-0.45.1-py3-none-any.whl.metadata (2.3 kB)\n",
            "Requirement already satisfied: rich in /usr/local/lib/python3.11/dist-packages (from keras>=3.5.0->tensorflow) (13.9.4)\n",
            "Requirement already satisfied: namex in /usr/local/lib/python3.11/dist-packages (from keras>=3.5.0->tensorflow) (0.0.8)\n",
            "Requirement already satisfied: optree in /usr/local/lib/python3.11/dist-packages (from keras>=3.5.0->tensorflow) (0.14.1)\n",
            "Requirement already satisfied: charset-normalizer<4,>=2 in /usr/local/lib/python3.11/dist-packages (from requests<3,>=2.21.0->tensorflow) (3.4.1)\n",
            "Requirement already satisfied: idna<4,>=2.5 in /usr/local/lib/python3.11/dist-packages (from requests<3,>=2.21.0->tensorflow) (3.10)\n",
            "Requirement already satisfied: urllib3<3,>=1.21.1 in /usr/local/lib/python3.11/dist-packages (from requests<3,>=2.21.0->tensorflow) (2.3.0)\n",
            "Requirement already satisfied: certifi>=2017.4.17 in /usr/local/lib/python3.11/dist-packages (from requests<3,>=2.21.0->tensorflow) (2025.1.31)\n",
            "Requirement already satisfied: markdown>=2.6.8 in /usr/lib/python3/dist-packages (from tensorboard~=2.19.0->tensorflow) (3.3.6)\n",
            "Collecting tensorboard-data-server<0.8.0,>=0.7.0 (from tensorboard~=2.19.0->tensorflow)\n",
            "  Downloading tensorboard_data_server-0.7.2-py3-none-manylinux_2_31_x86_64.whl.metadata (1.1 kB)\n",
            "Collecting werkzeug>=1.0.1 (from tensorboard~=2.19.0->tensorflow)\n",
            "  Downloading werkzeug-3.1.3-py3-none-any.whl.metadata (3.7 kB)\n",
            "Requirement already satisfied: MarkupSafe>=2.1.1 in /usr/local/lib/python3.11/dist-packages (from werkzeug>=1.0.1->tensorboard~=2.19.0->tensorflow) (3.0.2)\n",
            "Requirement already satisfied: markdown-it-py>=2.2.0 in /usr/local/lib/python3.11/dist-packages (from rich->keras>=3.5.0->tensorflow) (3.0.0)\n",
            "Requirement already satisfied: pygments<3.0.0,>=2.13.0 in /usr/local/lib/python3.11/dist-packages (from rich->keras>=3.5.0->tensorflow) (2.19.1)\n",
            "Requirement already satisfied: mdurl~=0.1 in /usr/local/lib/python3.11/dist-packages (from markdown-it-py>=2.2.0->rich->keras>=3.5.0->tensorflow) (0.1.2)\n",
            "Downloading tensorflow-2.19.0-cp311-cp311-manylinux_2_17_x86_64.manylinux2014_x86_64.whl (644.9 MB)\n",
            "\u001b[2K   \u001b[90m━━━━━━━━━━━━━━━━━━━━━━━━━━━━━━━━━━━━━━━━\u001b[0m \u001b[32m644.9/644.9 MB\u001b[0m \u001b[31m532.9 kB/s\u001b[0m eta \u001b[36m0:00:00\u001b[0m\n",
            "\u001b[?25hDownloading astunparse-1.6.3-py2.py3-none-any.whl (12 kB)\n",
            "Downloading flatbuffers-25.2.10-py2.py3-none-any.whl (30 kB)\n",
            "Downloading google_pasta-0.2.0-py3-none-any.whl (57 kB)\n",
            "\u001b[2K   \u001b[90m━━━━━━━━━━━━━━━━━━━━━━━━━━━━━━━━━━━━━━━━\u001b[0m \u001b[32m57.5/57.5 kB\u001b[0m \u001b[31m703.1 kB/s\u001b[0m eta \u001b[36m0:00:00\u001b[0m\n",
            "\u001b[?25hDownloading libclang-18.1.1-py2.py3-none-manylinux2010_x86_64.whl (24.5 MB)\n",
            "\u001b[2K   \u001b[90m━━━━━━━━━━━━━━━━━━━━━━━━━━━━━━━━━━━━━━━━\u001b[0m \u001b[32m24.5/24.5 MB\u001b[0m \u001b[31m50.9 MB/s\u001b[0m eta \u001b[36m0:00:00\u001b[0m\n",
            "\u001b[?25hDownloading tensorboard-2.19.0-py3-none-any.whl (5.5 MB)\n",
            "\u001b[2K   \u001b[90m━━━━━━━━━━━━━━━━━━━━━━━━━━━━━━━━━━━━━━━━\u001b[0m \u001b[32m5.5/5.5 MB\u001b[0m \u001b[31m89.6 MB/s\u001b[0m eta \u001b[36m0:00:00\u001b[0m\n",
            "\u001b[?25hDownloading tensorflow_io_gcs_filesystem-0.37.1-cp311-cp311-manylinux_2_17_x86_64.manylinux2014_x86_64.whl (5.1 MB)\n",
            "\u001b[2K   \u001b[90m━━━━━━━━━━━━━━━━━━━━━━━━━━━━━━━━━━━━━━━━\u001b[0m \u001b[32m5.1/5.1 MB\u001b[0m \u001b[31m90.1 MB/s\u001b[0m eta \u001b[36m0:00:00\u001b[0m\n",
            "\u001b[?25hDownloading tensorboard_data_server-0.7.2-py3-none-manylinux_2_31_x86_64.whl (6.6 MB)\n",
            "\u001b[2K   \u001b[90m━━━━━━━━━━━━━━━━━━━━━━━━━━━━━━━━━━━━━━━━\u001b[0m \u001b[32m6.6/6.6 MB\u001b[0m \u001b[31m99.5 MB/s\u001b[0m eta \u001b[36m0:00:00\u001b[0m\n",
            "\u001b[?25hDownloading werkzeug-3.1.3-py3-none-any.whl (224 kB)\n",
            "\u001b[2K   \u001b[90m━━━━━━━━━━━━━━━━━━━━━━━━━━━━━━━━━━━━━━━━\u001b[0m \u001b[32m224.5/224.5 kB\u001b[0m \u001b[31m8.5 MB/s\u001b[0m eta \u001b[36m0:00:00\u001b[0m\n",
            "\u001b[?25hDownloading wheel-0.45.1-py3-none-any.whl (72 kB)\n",
            "\u001b[2K   \u001b[90m━━━━━━━━━━━━━━━━━━━━━━━━━━━━━━━━━━━━━━━━\u001b[0m \u001b[32m72.5/72.5 kB\u001b[0m \u001b[31m3.4 MB/s\u001b[0m eta \u001b[36m0:00:00\u001b[0m\n",
            "\u001b[?25hInstalling collected packages: libclang, flatbuffers, wheel, werkzeug, tensorflow-io-gcs-filesystem, tensorboard-data-server, google-pasta, tensorboard, astunparse, tensorflow\n",
            "Successfully installed astunparse-1.6.3 flatbuffers-25.2.10 google-pasta-0.2.0 libclang-18.1.1 tensorboard-2.19.0 tensorboard-data-server-0.7.2 tensorflow-2.19.0 tensorflow-io-gcs-filesystem-0.37.1 werkzeug-3.1.3 wheel-0.45.1\n"
          ]
        }
      ],
      "source": [
        "!pip install tensorflow"
      ]
    },
    {
      "cell_type": "code",
      "execution_count": null,
      "metadata": {
        "colab": {
          "base_uri": "https://localhost:8080/"
        },
        "id": "LYlQnHuARMFQ",
        "outputId": "c1838ec6-86a5-4ddc-bd44-1eeec529ed10"
      },
      "outputs": [
        {
          "output_type": "stream",
          "name": "stdout",
          "text": [
            "TensorFlow Version:   2.19.0\n",
            "Keras Version:   3.8.0\n"
          ]
        }
      ],
      "source": [
        "# Importing Tensorflow and keras\n",
        "\n",
        "import tensorflow as tf\n",
        "from tensorflow.keras import layers\n",
        "from tensorflow.keras.preprocessing.image import ImageDataGenerator\n",
        "import pandas as pd\n",
        "import numpy as np\n",
        "import seaborn as sns\n",
        "import matplotlib.pyplot as plt\n",
        "import matplotlib.image as img\n",
        "%matplotlib inline\n",
        "\n",
        "from sklearn.model_selection import train_test_split\n",
        "from sklearn.metrics import confusion_matrix\n",
        "import itertools\n",
        "\n",
        "#Tensorflow Version\n",
        "print(\"TensorFlow Version:   \"+tf.version.VERSION)\n",
        "print(\"Keras Version:   \"+tf.keras.__version__)"
      ]
    },
    {
      "cell_type": "markdown",
      "metadata": {
        "id": "WEPDqrJLUWEi"
      },
      "source": [
        "## 2. Preparing the Dataset"
      ]
    },
    {
      "cell_type": "code",
      "execution_count": null,
      "metadata": {
        "colab": {
          "base_uri": "https://localhost:8080/"
        },
        "id": "B5stZ8PVLQ3w",
        "outputId": "8e31cfa8-7dca-4510-9150-d74a0d62f441"
      },
      "outputs": [
        {
          "output_type": "stream",
          "name": "stdout",
          "text": [
            "Requirement already satisfied: gdown in /usr/local/lib/python3.11/dist-packages (5.2.0)\n",
            "Requirement already satisfied: beautifulsoup4 in /usr/local/lib/python3.11/dist-packages (from gdown) (4.13.3)\n",
            "Requirement already satisfied: filelock in /usr/local/lib/python3.11/dist-packages (from gdown) (3.18.0)\n",
            "Requirement already satisfied: requests[socks] in /usr/local/lib/python3.11/dist-packages (from gdown) (2.32.3)\n",
            "Requirement already satisfied: tqdm in /usr/local/lib/python3.11/dist-packages (from gdown) (4.67.1)\n",
            "Requirement already satisfied: soupsieve>1.2 in /usr/local/lib/python3.11/dist-packages (from beautifulsoup4->gdown) (2.6)\n",
            "Requirement already satisfied: typing-extensions>=4.0.0 in /usr/local/lib/python3.11/dist-packages (from beautifulsoup4->gdown) (4.12.2)\n",
            "Requirement already satisfied: charset-normalizer<4,>=2 in /usr/local/lib/python3.11/dist-packages (from requests[socks]->gdown) (3.4.1)\n",
            "Requirement already satisfied: idna<4,>=2.5 in /usr/local/lib/python3.11/dist-packages (from requests[socks]->gdown) (3.10)\n",
            "Requirement already satisfied: urllib3<3,>=1.21.1 in /usr/local/lib/python3.11/dist-packages (from requests[socks]->gdown) (2.3.0)\n",
            "Requirement already satisfied: certifi>=2017.4.17 in /usr/local/lib/python3.11/dist-packages (from requests[socks]->gdown) (2025.1.31)\n",
            "Requirement already satisfied: PySocks!=1.5.7,>=1.5.6 in /usr/local/lib/python3.11/dist-packages (from requests[socks]->gdown) (1.7.1)\n",
            "Downloading...\n",
            "From: https://drive.google.com/uc?id=1rU-I_dvBEgOjlM9k-y2M6PhHt5hUiapq\n",
            "To: /content/mnist_train.csv\n",
            "100% 76.8M/76.8M [00:00<00:00, 100MB/s] \n",
            "File imported successfully\n"
          ]
        }
      ],
      "source": [
        "# Train Data\n",
        "\n",
        "import pandas as pd\n",
        "!pip install gdown\n",
        "!gdown 1rU-I_dvBEgOjlM9k-y2M6PhHt5hUiapq\n",
        "\n",
        "try:\n",
        "  pvsdb3249train = pd.read_csv(\"mnist_train.csv\")\n",
        "  print(\"File imported successfully\")\n",
        "except FileNotFoundError:\n",
        "  print(\"File not found.\")"
      ]
    },
    {
      "cell_type": "code",
      "execution_count": null,
      "metadata": {
        "colab": {
          "base_uri": "https://localhost:8080/"
        },
        "id": "9RTsfWNpJp7b",
        "outputId": "80796ebf-f840-4233-a531-ad3dd2589dfe"
      },
      "outputs": [
        {
          "output_type": "stream",
          "name": "stdout",
          "text": [
            "Requirement already satisfied: gdown in /usr/local/lib/python3.11/dist-packages (5.2.0)\n",
            "Requirement already satisfied: beautifulsoup4 in /usr/local/lib/python3.11/dist-packages (from gdown) (4.13.3)\n",
            "Requirement already satisfied: filelock in /usr/local/lib/python3.11/dist-packages (from gdown) (3.18.0)\n",
            "Requirement already satisfied: requests[socks] in /usr/local/lib/python3.11/dist-packages (from gdown) (2.32.3)\n",
            "Requirement already satisfied: tqdm in /usr/local/lib/python3.11/dist-packages (from gdown) (4.67.1)\n",
            "Requirement already satisfied: soupsieve>1.2 in /usr/local/lib/python3.11/dist-packages (from beautifulsoup4->gdown) (2.6)\n",
            "Requirement already satisfied: typing-extensions>=4.0.0 in /usr/local/lib/python3.11/dist-packages (from beautifulsoup4->gdown) (4.12.2)\n",
            "Requirement already satisfied: charset-normalizer<4,>=2 in /usr/local/lib/python3.11/dist-packages (from requests[socks]->gdown) (3.4.1)\n",
            "Requirement already satisfied: idna<4,>=2.5 in /usr/local/lib/python3.11/dist-packages (from requests[socks]->gdown) (3.10)\n",
            "Requirement already satisfied: urllib3<3,>=1.21.1 in /usr/local/lib/python3.11/dist-packages (from requests[socks]->gdown) (2.3.0)\n",
            "Requirement already satisfied: certifi>=2017.4.17 in /usr/local/lib/python3.11/dist-packages (from requests[socks]->gdown) (2025.1.31)\n",
            "Requirement already satisfied: PySocks!=1.5.7,>=1.5.6 in /usr/local/lib/python3.11/dist-packages (from requests[socks]->gdown) (1.7.1)\n",
            "Downloading...\n",
            "From: https://drive.google.com/uc?id=1y3V3wwDc_xKjzk5fH5RIHuFYoNCpeVh9\n",
            "To: /content/test.csv\n",
            "100% 51.1M/51.1M [00:00<00:00, 82.4MB/s]\n",
            "File imported successfully\n"
          ]
        }
      ],
      "source": [
        "# Test Data\n",
        "\n",
        "!pip install gdown\n",
        "\n",
        "!gdown 1y3V3wwDc_xKjzk5fH5RIHuFYoNCpeVh9\n",
        "\n",
        "try:\n",
        "  pvsdb3249test = pd.read_csv(\"test.csv\")\n",
        "  print(\"File imported successfully\")\n",
        "except FileNotFoundError:\n",
        "  print(\"File not found.\")"
      ]
    },
    {
      "cell_type": "code",
      "execution_count": null,
      "metadata": {
        "colab": {
          "base_uri": "https://localhost:8080/",
          "height": 429
        },
        "id": "05yoL078UJIp",
        "outputId": "49215ed0-6bf3-4b89-a029-338256fa47c1"
      },
      "outputs": [
        {
          "output_type": "execute_result",
          "data": {
            "text/plain": [
              "label\n",
              "1    4684\n",
              "7    4401\n",
              "3    4351\n",
              "9    4188\n",
              "2    4177\n",
              "6    4137\n",
              "0    4132\n",
              "4    4072\n",
              "8    4063\n",
              "5    3795\n",
              "Name: count, dtype: int64"
            ],
            "text/html": [
              "<div>\n",
              "<style scoped>\n",
              "    .dataframe tbody tr th:only-of-type {\n",
              "        vertical-align: middle;\n",
              "    }\n",
              "\n",
              "    .dataframe tbody tr th {\n",
              "        vertical-align: top;\n",
              "    }\n",
              "\n",
              "    .dataframe thead th {\n",
              "        text-align: right;\n",
              "    }\n",
              "</style>\n",
              "<table border=\"1\" class=\"dataframe\">\n",
              "  <thead>\n",
              "    <tr style=\"text-align: right;\">\n",
              "      <th></th>\n",
              "      <th>count</th>\n",
              "    </tr>\n",
              "    <tr>\n",
              "      <th>label</th>\n",
              "      <th></th>\n",
              "    </tr>\n",
              "  </thead>\n",
              "  <tbody>\n",
              "    <tr>\n",
              "      <th>1</th>\n",
              "      <td>4684</td>\n",
              "    </tr>\n",
              "    <tr>\n",
              "      <th>7</th>\n",
              "      <td>4401</td>\n",
              "    </tr>\n",
              "    <tr>\n",
              "      <th>3</th>\n",
              "      <td>4351</td>\n",
              "    </tr>\n",
              "    <tr>\n",
              "      <th>9</th>\n",
              "      <td>4188</td>\n",
              "    </tr>\n",
              "    <tr>\n",
              "      <th>2</th>\n",
              "      <td>4177</td>\n",
              "    </tr>\n",
              "    <tr>\n",
              "      <th>6</th>\n",
              "      <td>4137</td>\n",
              "    </tr>\n",
              "    <tr>\n",
              "      <th>0</th>\n",
              "      <td>4132</td>\n",
              "    </tr>\n",
              "    <tr>\n",
              "      <th>4</th>\n",
              "      <td>4072</td>\n",
              "    </tr>\n",
              "    <tr>\n",
              "      <th>8</th>\n",
              "      <td>4063</td>\n",
              "    </tr>\n",
              "    <tr>\n",
              "      <th>5</th>\n",
              "      <td>3795</td>\n",
              "    </tr>\n",
              "  </tbody>\n",
              "</table>\n",
              "</div><br><label><b>dtype:</b> int64</label>"
            ]
          },
          "metadata": {},
          "execution_count": 6
        }
      ],
      "source": [
        "Y_pvsdb3249train = pvsdb3249train['label']\n",
        "\n",
        "#Dropping Label Column\n",
        "X_pvsdb3249train = pvsdb3249train.drop(labels=['label'],axis=1)\n",
        "\n",
        "#free up some space\n",
        "del pvsdb3249train\n",
        "\n",
        "Y_pvsdb3249train.value_counts()"
      ]
    },
    {
      "cell_type": "code",
      "execution_count": null,
      "metadata": {
        "colab": {
          "base_uri": "https://localhost:8080/",
          "height": 210
        },
        "id": "jGSazKXLXRtA",
        "outputId": "71d90275-e2b0-49f6-cd04-be29c788b497"
      },
      "outputs": [
        {
          "output_type": "execute_result",
          "data": {
            "text/plain": [
              "count       784\n",
              "unique        1\n",
              "top       False\n",
              "freq        784\n",
              "dtype: object"
            ],
            "text/html": [
              "<div>\n",
              "<style scoped>\n",
              "    .dataframe tbody tr th:only-of-type {\n",
              "        vertical-align: middle;\n",
              "    }\n",
              "\n",
              "    .dataframe tbody tr th {\n",
              "        vertical-align: top;\n",
              "    }\n",
              "\n",
              "    .dataframe thead th {\n",
              "        text-align: right;\n",
              "    }\n",
              "</style>\n",
              "<table border=\"1\" class=\"dataframe\">\n",
              "  <thead>\n",
              "    <tr style=\"text-align: right;\">\n",
              "      <th></th>\n",
              "      <th>0</th>\n",
              "    </tr>\n",
              "  </thead>\n",
              "  <tbody>\n",
              "    <tr>\n",
              "      <th>count</th>\n",
              "      <td>784</td>\n",
              "    </tr>\n",
              "    <tr>\n",
              "      <th>unique</th>\n",
              "      <td>1</td>\n",
              "    </tr>\n",
              "    <tr>\n",
              "      <th>top</th>\n",
              "      <td>False</td>\n",
              "    </tr>\n",
              "    <tr>\n",
              "      <th>freq</th>\n",
              "      <td>784</td>\n",
              "    </tr>\n",
              "  </tbody>\n",
              "</table>\n",
              "</div><br><label><b>dtype:</b> object</label>"
            ]
          },
          "metadata": {},
          "execution_count": 7
        }
      ],
      "source": [
        "#Checking for any null or missing values\n",
        "X_pvsdb3249train.isnull().any().describe()"
      ]
    },
    {
      "cell_type": "code",
      "execution_count": null,
      "metadata": {
        "colab": {
          "base_uri": "https://localhost:8080/",
          "height": 210
        },
        "id": "U3_xptjfNMPb",
        "outputId": "305ee9a3-cf82-4ce6-b228-5d5c99c443df"
      },
      "outputs": [
        {
          "output_type": "execute_result",
          "data": {
            "text/plain": [
              "count       784\n",
              "unique        1\n",
              "top       False\n",
              "freq        784\n",
              "dtype: object"
            ],
            "text/html": [
              "<div>\n",
              "<style scoped>\n",
              "    .dataframe tbody tr th:only-of-type {\n",
              "        vertical-align: middle;\n",
              "    }\n",
              "\n",
              "    .dataframe tbody tr th {\n",
              "        vertical-align: top;\n",
              "    }\n",
              "\n",
              "    .dataframe thead th {\n",
              "        text-align: right;\n",
              "    }\n",
              "</style>\n",
              "<table border=\"1\" class=\"dataframe\">\n",
              "  <thead>\n",
              "    <tr style=\"text-align: right;\">\n",
              "      <th></th>\n",
              "      <th>0</th>\n",
              "    </tr>\n",
              "  </thead>\n",
              "  <tbody>\n",
              "    <tr>\n",
              "      <th>count</th>\n",
              "      <td>784</td>\n",
              "    </tr>\n",
              "    <tr>\n",
              "      <th>unique</th>\n",
              "      <td>1</td>\n",
              "    </tr>\n",
              "    <tr>\n",
              "      <th>top</th>\n",
              "      <td>False</td>\n",
              "    </tr>\n",
              "    <tr>\n",
              "      <th>freq</th>\n",
              "      <td>784</td>\n",
              "    </tr>\n",
              "  </tbody>\n",
              "</table>\n",
              "</div><br><label><b>dtype:</b> object</label>"
            ]
          },
          "metadata": {},
          "execution_count": 8
        }
      ],
      "source": [
        "pvsdb3249test.isnull().any().describe()"
      ]
    },
    {
      "cell_type": "markdown",
      "metadata": {
        "id": "xJQsCTooXv1X"
      },
      "source": [
        "### Normalisation"
      ]
    },
    {
      "cell_type": "code",
      "execution_count": null,
      "metadata": {
        "id": "pTFl1nLqXpSy"
      },
      "outputs": [],
      "source": [
        "X_pvsdb3249train = X_pvsdb3249train/255\n",
        "pvsdb3249test = pvsdb3249test/255"
      ]
    },
    {
      "cell_type": "markdown",
      "metadata": {
        "id": "0Lx2A8K8YAKn"
      },
      "source": [
        "### Reshape\n",
        "The array of pixel values are reshaped into a (28,28,1) matrix. We are feeding the CNN model with input_shape of 28x28x1 matrix."
      ]
    },
    {
      "cell_type": "code",
      "execution_count": null,
      "metadata": {
        "id": "RgJra9a4X9U1"
      },
      "outputs": [],
      "source": [
        "X_pvsdb3249train = X_pvsdb3249train.values.reshape(-1,28,28,1)"
      ]
    },
    {
      "cell_type": "code",
      "execution_count": null,
      "metadata": {
        "id": "wVu2fuihYXi7"
      },
      "outputs": [],
      "source": [
        "pvsdb3249test = pvsdb3249test.values.reshape(-1,28,28,1)"
      ]
    },
    {
      "cell_type": "markdown",
      "metadata": {
        "id": "GSbzJTHlYkhS"
      },
      "source": [
        "### Label Encoding"
      ]
    },
    {
      "cell_type": "code",
      "execution_count": null,
      "metadata": {
        "id": "U7DvS95KYrVa"
      },
      "outputs": [],
      "source": [
        "Y_pvsdb3249train = tf.keras.utils.to_categorical(Y_pvsdb3249train, num_classes=10)\n",
        "#To enable label into hot vector. For Eg.7 -> [0,0,0,0,0,0,0,1,0,0]"
      ]
    },
    {
      "cell_type": "markdown",
      "metadata": {
        "id": "z_6i2uEqsOCE"
      },
      "source": [
        "### Train and Validation Data Split\n"
      ]
    },
    {
      "cell_type": "code",
      "execution_count": null,
      "metadata": {
        "id": "UUBksBY12L8V"
      },
      "outputs": [],
      "source": [
        "#Spliting pvsdb3249train\n",
        "X_pvsdb3249train,X_val,Y_pvsdb3249train,Y_val = train_test_split(X_pvsdb3249train,Y_pvsdb3249train,test_size=0.1,\n",
        "                                                random_state = 55004028)"
      ]
    },
    {
      "cell_type": "code",
      "execution_count": null,
      "metadata": {
        "colab": {
          "base_uri": "https://localhost:8080/",
          "height": 430
        },
        "id": "KVNgcZ5F3Ap5",
        "outputId": "fe86ff4d-a62c-4cfb-845a-7f726e4c9265"
      },
      "outputs": [
        {
          "output_type": "display_data",
          "data": {
            "text/plain": [
              "<Figure size 640x480 with 1 Axes>"
            ],
            "image/png": "[encoded data removed]"
          },
          "metadata": {}
        }
      ],
      "source": [
        "#An image sample\n",
        "\n",
        "g = plt.imshow(X_pvsdb3249train[0][:,:,0])"
      ]
    },
    {
      "cell_type": "markdown",
      "metadata": {
        "id": "tU1XRCKr3e0n"
      },
      "source": [
        "## 3. Model Building"
      ]
    },
    {
      "cell_type": "code",
      "execution_count": null,
      "metadata": {
        "colab": {
          "base_uri": "https://localhost:8080/"
        },
        "id": "kpkANohy3TaJ",
        "outputId": "212b0b0d-6f7d-478f-ad04-9094de3485f3"
      },
      "outputs": [
        {
          "output_type": "stream",
          "name": "stderr",
          "text": [
            "/usr/local/lib/python3.11/dist-packages/keras/src/layers/convolutional/base_conv.py:107: UserWarning: Do not pass an `input_shape`/`input_dim` argument to a layer. When using Sequential models, prefer using an `Input(shape)` object as the first layer in the model instead.\n",
            "  super().__init__(activity_regularizer=activity_regularizer, **kwargs)\n"
          ]
        }
      ],
      "source": [
        "#CNN Architecture is In -> [[Conv2D->relu]*2 -> MaxPool2D -> Dropout]*2 ->\n",
        "                           #Flatten -> Dense -> Dropout -> Out\n",
        "model = tf.keras.Sequential()\n",
        "\n",
        "model.add(layers.Conv2D(filters=32, kernel_size=(5,5), padding='Same',\n",
        "                       activation=tf.nn.relu, input_shape = (28,28,1)))\n",
        "model.add(layers.Conv2D(filters=32, kernel_size=(5,5), padding='Same',\n",
        "                       activation=tf.nn.relu))\n",
        "model.add(layers.MaxPool2D(pool_size=(2,2)))\n",
        "model.add(layers.Dropout(0.25))\n",
        "\n",
        "\n",
        "model.add(layers.Conv2D(filters=64, kernel_size=(3,3), padding='Same',\n",
        "                       activation=tf.nn.relu, input_shape = (28,28,1)))\n",
        "model.add(layers.Conv2D(filters=64, kernel_size=(3,3), padding='Same',\n",
        "                       activation=tf.nn.relu))\n",
        "model.add(layers.MaxPool2D(pool_size=(2,2),strides=(2,2)))\n",
        "model.add(layers.Dropout(0.25))\n",
        "\n",
        "model.add(layers.Flatten())\n",
        "model.add(layers.Dense(256,activation=tf.nn.relu))\n",
        "model.add(layers.Dropout(0.25))\n",
        "model.add(layers.Dense(10,activation=tf.nn.softmax))"
      ]
    },
    {
      "cell_type": "code",
      "execution_count": null,
      "metadata": {
        "id": "VuN1-e0uPCWy"
      },
      "outputs": [],
      "source": [
        "pvsdb3249_optimizer = tf.keras.optimizers.RMSprop(learning_rate=0.001, rho=0.9, epsilon=1e-08)"
      ]
    },
    {
      "cell_type": "code",
      "execution_count": null,
      "metadata": {
        "id": "wiwSpyiYPcIb"
      },
      "outputs": [],
      "source": [
        "#Compiling Model\n",
        "\n",
        "model.compile(optimizer = pvsdb3249_optimizer, loss='categorical_crossentropy',\n",
        "             metrics=[\"accuracy\"])"
      ]
    },
    {
      "cell_type": "code",
      "execution_count": null,
      "metadata": {
        "id": "FqExgW5DQoab"
      },
      "outputs": [],
      "source": [
        "#Setting Learning rate annealer\n",
        "\n",
        "learning_rate_reduction = tf.keras.callbacks.ReduceLROnPlateau(monitor='val_acc',\n",
        "                                           patience=3,\n",
        "                                           verbose=1,\n",
        "                                           factor=0.5,\n",
        "                                           min_lr=0.00001)"
      ]
    },
    {
      "cell_type": "code",
      "execution_count": null,
      "metadata": {
        "id": "VpoFy1wQRJf8"
      },
      "outputs": [],
      "source": [
        "pvsdb3249_epochs=10\n",
        "pvsdb3249_batch_size = 112"
      ]
    },
    {
      "cell_type": "code",
      "execution_count": null,
      "metadata": {
        "id": "lTi2iTMKROwt"
      },
      "outputs": [],
      "source": [
        "datagen = ImageDataGenerator(\n",
        "        featurewise_center=False,  # set input mean to 0 over the dataset\n",
        "        samplewise_center=False,  # set each sample mean to 0\n",
        "        featurewise_std_normalization=False,  # divide inputs by std of the dataset\n",
        "        samplewise_std_normalization=False,  # divide each input by its std\n",
        "        zca_whitening=False,  # apply ZCA whitening\n",
        "        rotation_range=10,  # randomly rotate images in the range (degrees, 0 to 180)\n",
        "        zoom_range = 0.1, # Randomly zoom image\n",
        "        width_shift_range=0.1,  # randomly shift images horizontally (fraction of total width)\n",
        "        height_shift_range=0.1,  # randomly shift images vertically (fraction of total height)\n",
        "        horizontal_flip=False,  # randomly flip images\n",
        "        vertical_flip=False)  # randomly flip images\n",
        "\n",
        "\n",
        "datagen.fit(X_pvsdb3249train)"
      ]
    },
    {
      "cell_type": "markdown",
      "metadata": {
        "id": "qkX93W-P4iYl"
      },
      "source": [
        "## 4. Model Fitting"
      ]
    },
    {
      "cell_type": "code",
      "execution_count": null,
      "metadata": {
        "colab": {
          "base_uri": "https://localhost:8080/"
        },
        "id": "X_KVwvvusOCG",
        "outputId": "201c1354-ffdb-4d4a-9272-c501142d7cd8"
      },
      "outputs": [
        {
          "output_type": "stream",
          "name": "stdout",
          "text": [
            "CUDA Available.\n"
          ]
        }
      ],
      "source": [
        "if(tf.test.is_built_with_cuda() == True):\n",
        "    print(\"CUDA Available.\")\n",
        "else:\n",
        "    print(\"CUDA not Available.\")"
      ]
    },
    {
      "cell_type": "code",
      "execution_count": null,
      "metadata": {
        "colab": {
          "base_uri": "https://localhost:8080/"
        },
        "id": "BYvD4vpOz3_L",
        "outputId": "093e5b2b-52d3-45a6-a584-2b65fe50c803"
      },
      "outputs": [
        {
          "output_type": "stream",
          "name": "stdout",
          "text": [
            "Epoch 1/10\n"
          ]
        },
        {
          "output_type": "stream",
          "name": "stderr",
          "text": [
            "/usr/local/lib/python3.11/dist-packages/keras/src/trainers/data_adapters/py_dataset_adapter.py:121: UserWarning: Your `PyDataset` class should call `super().__init__(**kwargs)` in its constructor. `**kwargs` can include `workers`, `use_multiprocessing`, `max_queue_size`. Do not pass these arguments to `fit()`, as they will be ignored.\n",
            "  self._warn_if_super_not_called()\n"
          ]
        },
        {
          "output_type": "stream",
          "name": "stdout",
          "text": [
            "337/337 - 170s - 504ms/step - accuracy: 0.8664 - loss: 0.4092 - val_accuracy: 0.9812 - val_loss: 0.0645 - learning_rate: 1.0000e-03\n",
            "Epoch 2/10\n"
          ]
        },
        {
          "output_type": "stream",
          "name": "stderr",
          "text": [
            "/usr/local/lib/python3.11/dist-packages/keras/src/callbacks/callback_list.py:145: UserWarning: Learning rate reduction is conditioned on metric `val_acc` which is not available. Available metrics are: accuracy,loss,val_accuracy,val_loss,learning_rate.\n",
            "  callback.on_epoch_end(epoch, logs)\n",
            "/usr/local/lib/python3.11/dist-packages/keras/src/trainers/epoch_iterator.py:107: UserWarning: Your input ran out of data; interrupting training. Make sure that your dataset or generator can generate at least `steps_per_epoch * epochs` batches. You may need to use the `.repeat()` function when building your dataset.\n",
            "  self._interrupted_warning()\n"
          ]
        },
        {
          "output_type": "stream",
          "name": "stdout",
          "text": [
            "337/337 - 5s - 15ms/step - accuracy: 0.9554 - loss: 0.1996 - val_accuracy: 0.9817 - val_loss: 0.0620 - learning_rate: 1.0000e-03\n",
            "Epoch 3/10\n",
            "337/337 - 168s - 499ms/step - accuracy: 0.9633 - loss: 0.1192 - val_accuracy: 0.9886 - val_loss: 0.0378 - learning_rate: 1.0000e-03\n",
            "Epoch 4/10\n",
            "337/337 - 5s - 15ms/step - accuracy: 0.9821 - loss: 0.0452 - val_accuracy: 0.9895 - val_loss: 0.0391 - learning_rate: 1.0000e-03\n",
            "Epoch 5/10\n",
            "337/337 - 167s - 495ms/step - accuracy: 0.9739 - loss: 0.0846 - val_accuracy: 0.9874 - val_loss: 0.0454 - learning_rate: 1.0000e-03\n",
            "Epoch 6/10\n",
            "337/337 - 5s - 15ms/step - accuracy: 0.9821 - loss: 0.0595 - val_accuracy: 0.9886 - val_loss: 0.0390 - learning_rate: 1.0000e-03\n",
            "Epoch 7/10\n",
            "337/337 - 168s - 499ms/step - accuracy: 0.9786 - loss: 0.0703 - val_accuracy: 0.9929 - val_loss: 0.0249 - learning_rate: 1.0000e-03\n",
            "Epoch 8/10\n",
            "337/337 - 5s - 15ms/step - accuracy: 1.0000 - loss: 0.0238 - val_accuracy: 0.9926 - val_loss: 0.0255 - learning_rate: 1.0000e-03\n",
            "Epoch 9/10\n",
            "337/337 - 168s - 497ms/step - accuracy: 0.9820 - loss: 0.0585 - val_accuracy: 0.9921 - val_loss: 0.0292 - learning_rate: 1.0000e-03\n",
            "Epoch 10/10\n",
            "337/337 - 5s - 15ms/step - accuracy: 0.9911 - loss: 0.0619 - val_accuracy: 0.9921 - val_loss: 0.0308 - learning_rate: 1.0000e-03\n"
          ]
        }
      ],
      "source": [
        "#Fitting the model\n",
        "# Commenting it since no need to run it again\n",
        "\n",
        "history = model.fit(datagen.flow(X_pvsdb3249train, Y_pvsdb3249train, batch_size=pvsdb3249_batch_size),\n",
        "                    epochs=pvsdb3249_epochs,\n",
        "                    validation_data=(X_val, Y_val),\n",
        "                    verbose=2,\n",
        "                    steps_per_epoch=X_pvsdb3249train.shape[0] // pvsdb3249_batch_size,\n",
        "                    callbacks=[learning_rate_reduction])\n"
      ]
    },
    {
      "cell_type": "code",
      "execution_count": null,
      "metadata": {
        "id": "5zyvqJu6I16Y"
      },
      "outputs": [],
      "source": [
        "# Saving the model for further faster processing\n",
        "\n",
        "model.save(\"CNNmodel.keras\", include_optimizer = True)"
      ]
    },
    {
      "cell_type": "code",
      "execution_count": null,
      "metadata": {
        "id": "K2w2icoyI9b1"
      },
      "outputs": [],
      "source": [
        "from tensorflow.keras.models import load_model\n",
        "\n",
        "# Define a custom object to map 'softmax_v2' to 'softmax'\n",
        "custom_objects = {'softmax_v2': tf.keras.activations.softmax}\n",
        "cnn_model = load_model(\"CNNmodel.keras\", custom_objects=custom_objects)"
      ]
    },
    {
      "cell_type": "markdown",
      "metadata": {
        "id": "J2i6erFdsOCG"
      },
      "source": [
        "## 5. Analyzing the model"
      ]
    },
    {
      "cell_type": "code",
      "execution_count": null,
      "metadata": {
        "colab": {
          "base_uri": "https://localhost:8080/",
          "height": 607
        },
        "id": "PMKZhU75z-b6",
        "outputId": "99cdd383-2876-4d72-acd9-958d9feb9590"
      },
      "outputs": [
        {
          "output_type": "display_data",
          "data": {
            "text/plain": [
              "<Figure size 800x600 with 2 Axes>"
            ],
            "image/png": "[encoded data removed]"
          },
          "metadata": {}
        }
      ],
      "source": [
        "# The loss and accuracy curves for training and validation\n",
        "\n",
        "fig, ax = plt.subplots(2, 1, figsize=(8, 6))\n",
        "ax[0].plot(history.history['loss'], color='b', label=\"Training Loss\")\n",
        "ax[0].plot(history.history['val_loss'], color='r', label=\"Validation Loss\")\n",
        "ax[0].legend(loc='best', shadow=True)\n",
        "ax[0].set_title('Loss Curves')\n",
        "\n",
        "ax[1].plot(history.history['accuracy'], color='b', label=\"Training Accuracy\")\n",
        "ax[1].plot(history.history['val_accuracy'], color='r', label=\"Validation Accuracy\")\n",
        "ax[1].legend(loc='best', shadow=True)\n",
        "ax[1].set_title('Accuracy Curves')\n",
        "\n",
        "plt.tight_layout()\n",
        "plt.show()\n"
      ]
    },
    {
      "cell_type": "code",
      "execution_count": null,
      "metadata": {
        "colab": {
          "base_uri": "https://localhost:8080/",
          "height": 523
        },
        "id": "IK6-TyagG4G4",
        "outputId": "1f940687-8f89-492c-a2e4-ec2a4485318f"
      },
      "outputs": [
        {
          "output_type": "stream",
          "name": "stdout",
          "text": [
            "\u001b[1m132/132\u001b[0m \u001b[32m━━━━━━━━━━━━━━━━━━━━\u001b[0m\u001b[37m\u001b[0m \u001b[1m5s\u001b[0m 35ms/step\n"
          ]
        },
        {
          "output_type": "display_data",
          "data": {
            "text/plain": [
              "<Figure size 640x480 with 2 Axes>"
            ],
            "image/png": "[encoded data removed]"
          },
          "metadata": {}
        }
      ],
      "source": [
        "# plotting confussion matrix\n",
        "\n",
        "def plot_confusion_matrix(cm, classes,\n",
        "                          normalize=False,\n",
        "                          title='Confusion matrix',\n",
        "                          cmap=plt.cm.Blues):\n",
        "    \"\"\"\n",
        "    This function prints and plots the confusion matrix.\n",
        "    Normalization can be applied by setting `normalize=True`.\n",
        "    \"\"\"\n",
        "    plt.imshow(cm, interpolation='nearest', cmap=cmap)\n",
        "    plt.title(title)\n",
        "    plt.colorbar()\n",
        "    tick_marks = np.arange(len(classes))\n",
        "    plt.xticks(tick_marks, classes, rotation=45)\n",
        "    plt.yticks(tick_marks, classes)\n",
        "\n",
        "    if normalize:\n",
        "        cm = cm.astype('float') / cm.sum(axis=1)[:, np.newaxis]\n",
        "\n",
        "    thresh = cm.max() / 2.\n",
        "    for i, j in itertools.product(range(cm.shape[0]), range(cm.shape[1])):\n",
        "        plt.text(j, i, cm[i, j],\n",
        "                 horizontalalignment=\"center\",\n",
        "                 color=\"white\" if cm[i, j] > thresh else \"black\")\n",
        "\n",
        "    plt.tight_layout()\n",
        "    plt.ylabel('True label')\n",
        "    plt.xlabel('Predicted label')\n",
        "\n",
        "# Predict the values from the validation dataset\n",
        "Y_pred = model.predict(X_val)\n",
        "# Convert predictions classes to one hot vectors\n",
        "Y_pred_classes = np.argmax(Y_pred,axis = 1)\n",
        "# Convert validation observations to one hot vectors\n",
        "Y_true = np.argmax(Y_val,axis = 1)\n",
        "# compute the confusion matrix\n",
        "confusion_mtx = confusion_matrix(Y_true, Y_pred_classes)\n",
        "# plot the confusion matrix\n",
        "plot_confusion_matrix(confusion_mtx, classes = range(10))"
      ]
    },
    {
      "cell_type": "markdown",
      "metadata": {
        "id": "5A6DRczwsOCH"
      },
      "source": [
        "### Important Error"
      ]
    },
    {
      "cell_type": "code",
      "execution_count": null,
      "metadata": {
        "colab": {
          "base_uri": "https://localhost:8080/",
          "height": 430
        },
        "id": "tV4wnLTQG4G8",
        "outputId": "d800b6a2-5d7f-45c4-c097-6bd857690bba"
      },
      "outputs": [
        {
          "output_type": "display_data",
          "data": {
            "text/plain": [
              "<Figure size 640x480 with 6 Axes>"
            ],
            "image/png": "[encoded data removed]"
          },
          "metadata": {}
        }
      ],
      "source": [
        "# Errors are difference between predicted labels and true labels\n",
        "errors = (Y_pred_classes - Y_true != 0)\n",
        "\n",
        "Y_pred_classes_errors = Y_pred_classes[errors]\n",
        "Y_pred_errors = Y_pred[errors]\n",
        "Y_true_errors = Y_true[errors]\n",
        "X_val_errors = X_val[errors]\n",
        "\n",
        "def display_errors(errors_index,img_errors,pred_errors, obs_errors):\n",
        "    \"\"\" This function shows 6 images with their predicted and real labels\"\"\"\n",
        "    n = 0\n",
        "    nrows = 2\n",
        "    ncols = 3\n",
        "    fig, ax = plt.subplots(nrows,ncols,sharex=True,sharey=True)\n",
        "    for row in range(nrows):\n",
        "        for col in range(ncols):\n",
        "            error = errors_index[n]\n",
        "            ax[row,col].imshow((img_errors[error]).reshape((28,28)))\n",
        "            ax[row,col].set_title(\" Predicted :{} True :{}\".format(pred_errors[error],obs_errors[error]))\n",
        "            n += 1\n",
        "\n",
        "# Probabilities of the wrong predicted numbers\n",
        "Y_pred_errors_prob = np.max(Y_pred_errors,axis = 1)\n",
        "\n",
        "# Predicted probabilities of the true values in the error set\n",
        "true_prob_errors = np.diagonal(np.take(Y_pred_errors, Y_true_errors, axis=1))\n",
        "\n",
        "# Difference between the probability of the predicted label and the true label\n",
        "delta_pred_true_errors = Y_pred_errors_prob - true_prob_errors\n",
        "\n",
        "# Sorted list of the delta prob errors\n",
        "sorted_dela_errors = np.argsort(delta_pred_true_errors)\n",
        "\n",
        "# Top 6 errors\n",
        "most_important_errors = sorted_dela_errors[-6:]\n",
        "\n",
        "# Show the top 6 errors\n",
        "display_errors(most_important_errors, X_val_errors, Y_pred_classes_errors, Y_true_errors)"
      ]
    },
    {
      "cell_type": "markdown",
      "metadata": {
        "id": "7xIbswywsOCH"
      },
      "source": [
        "## 6. Predicting the test data"
      ]
    },
    {
      "cell_type": "code",
      "execution_count": null,
      "metadata": {
        "colab": {
          "base_uri": "https://localhost:8080/"
        },
        "id": "N9KswR97G4G-",
        "outputId": "31d13594-7926-4333-f85e-9d90728efc90"
      },
      "outputs": [
        {
          "output_type": "stream",
          "name": "stdout",
          "text": [
            "\u001b[1m875/875\u001b[0m \u001b[32m━━━━━━━━━━━━━━━━━━━━\u001b[0m\u001b[37m\u001b[0m \u001b[1m30s\u001b[0m 34ms/step\n"
          ]
        }
      ],
      "source": [
        "# predict results\n",
        "results = cnn_model.predict(pvsdb3249test)\n",
        "\n",
        "# select the indix with the maximum probability\n",
        "results = np.argmax(results,axis = 1)\n",
        "\n",
        "results = pd.Series(results,name=\"Label\")"
      ]
    },
    {
      "cell_type": "code",
      "execution_count": null,
      "metadata": {
        "colab": {
          "base_uri": "https://localhost:8080/",
          "height": 137
        },
        "id": "i4-__qO8yu9l",
        "outputId": "7bbeae6a-8d1a-447e-eed5-e247dac846f9"
      },
      "outputs": [
        {
          "output_type": "display_data",
          "data": {
            "text/plain": [
              "<Figure size 1500x300 with 10 Axes>"
            ],
            "image/png": "[encoded data removed]"
          },
          "metadata": {}
        }
      ],
      "source": [
        "import matplotlib.pyplot as plt\n",
        "\n",
        "# Assuming 'results' contains predicted labels and 'pvsdb3249test' contains test images\n",
        "# Select a subset of images to display (e.g., the first 10)\n",
        "num_images_to_display = 10\n",
        "images = pvsdb3249test[:num_images_to_display]\n",
        "predicted_labels = results[:num_images_to_display]\n",
        "\n",
        "# Create a figure and axes for the images\n",
        "fig, axes = plt.subplots(1, num_images_to_display, figsize=(15, 3))\n",
        "\n",
        "# Iterate through the images and display them with their predicted labels\n",
        "for i, ax in enumerate(axes):\n",
        "    ax.imshow(images[i].reshape(28, 28), cmap='gray')  # Reshape and display the image\n",
        "    ax.set_title(f\"Predicted: {predicted_labels[i]}\")  # Set the title with the predicted label\n",
        "    ax.axis('off')  # Turn off the axes\n",
        "\n",
        "plt.show()  # Show the figure"
      ]
    },
    {
      "cell_type": "code",
      "execution_count": null,
      "metadata": {
        "colab": {
          "base_uri": "https://localhost:8080/"
        },
        "id": "AlMCTkrdz-zo",
        "outputId": "1ba154f1-8855-43ee-ae99-dd47d15320a8"
      },
      "outputs": [
        {
          "output_type": "stream",
          "name": "stdout",
          "text": [
            "Images saved to 'predicted_images.zip' file.\n"
          ]
        }
      ],
      "source": [
        "import os\n",
        "import numpy as np\n",
        "from PIL import Image\n",
        "import zipfile\n",
        "\n",
        "# Create a ZIP file to store the images\n",
        "output_zip = 'predicted_images.zip'\n",
        "\n",
        "# Open a new ZIP file in write mode\n",
        "with zipfile.ZipFile(output_zip, 'w') as zipf:\n",
        "    # Iterate through the test images and save them with predicted labels\n",
        "    for i, image in enumerate(pvsdb3249test):\n",
        "        predicted_label = results[i]  # Get the predicted label for the current image\n",
        "        image_data = (image.reshape(28, 28) * 255).astype(np.uint8)  # Reshape and scale to 0-255\n",
        "        image = Image.fromarray(image_data, mode='L')  # Create a PIL Image object\n",
        "\n",
        "        # Generate a temporary filename with .jpg extension\n",
        "        image_filename = f'image_{i}_predicted_{predicted_label}.jpg'\n",
        "\n",
        "        # Save the image as JPG\n",
        "        image.save(image_filename, format='JPEG')\n",
        "\n",
        "        # Add the file to the ZIP archive\n",
        "        zipf.write(image_filename)\n",
        "\n",
        "        # Remove the temporary file\n",
        "        os.remove(image_filename)\n",
        "\n",
        "print(f\"Images saved to '{output_zip}' file.\")\n"
      ]
    },
    {
      "cell_type": "code",
      "execution_count": null,
      "metadata": {
        "id": "qvS8FrQEG4HC"
      },
      "outputs": [],
      "source": [
        "submission = pd.concat([pd.Series(range(1,28001),name = \"ImageId\"),results],axis = 1)\n",
        "\n",
        "submission.to_csv(\"cnn_mnist_datagen.csv\",index=False)"
      ]
    }
  ],
  "metadata": {
    "accelerator": "TPU",
    "colab": {
      "gpuType": "V28",
      "provenance": []
    },
    "kernelspec": {
      "display_name": "Python 3",
      "name": "python3"
    },
    "language_info": {
      "codemirror_mode": {
        "name": "ipython",
        "version": 3
      },
      "file_extension": ".py",
      "mimetype": "text/x-python",
      "name": "python",
      "nbconvert_exporter": "python",
      "pygments_lexer": "ipython3",
      "version": "3.6.4"
    }
  },
  "nbformat": 4,
  "nbformat_minor": 0
}